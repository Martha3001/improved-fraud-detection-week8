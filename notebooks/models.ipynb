{
 "cells": [
  {
   "cell_type": "markdown",
   "id": "9730c83f",
   "metadata": {},
   "source": [
    "# Model Building and Training"
   ]
  },
  {
   "cell_type": "markdown",
   "id": "58bb1809",
   "metadata": {},
   "source": [
    "## Importing Libraries"
   ]
  },
  {
   "cell_type": "code",
   "execution_count": 1,
   "id": "5be83044",
   "metadata": {},
   "outputs": [],
   "source": [
    "import os\n",
    "import sys\n",
    "import pandas as pd\n",
    "module_path = os.path.abspath(os.path.join('..'))\n",
    "if module_path not in sys.path:\n",
    "    sys.path.append(module_path)\n",
    "import src.models as m"
   ]
  },
  {
   "cell_type": "markdown",
   "id": "f285f89b",
   "metadata": {},
   "source": [
    "## Load Dataset"
   ]
  },
  {
   "cell_type": "code",
   "execution_count": 2,
   "id": "4eba494e",
   "metadata": {},
   "outputs": [],
   "source": [
    "# Load the dataset\n",
    "fraud_data_path = '../data/processed/fraud_data_processed.csv'\n",
    "credit_data_path = \"../data/raw/creditcard.csv\"\n",
    "\n",
    "fraud_data =  m.load_data(fraud_data_path)\n",
    "credit_data =  m.load_data(credit_data_path)"
   ]
  },
  {
   "cell_type": "markdown",
   "id": "df143d5b",
   "metadata": {},
   "source": [
    "## Model Preparation"
   ]
  },
  {
   "cell_type": "code",
   "execution_count": 3,
   "id": "31dbc00f",
   "metadata": {},
   "outputs": [],
   "source": [
    "X_train_fraud, X_test_fraud, y_train_fraud, y_test_fraud =m.split_data(fraud_data, 'class')\n",
    "X_train_fraud_smote_tomek, y_train_fraud_smote_tomek = m.handle_imbalanced_data(X_train_fraud, y_train_fraud)\n",
    "\n",
    "X_train_credit, X_test_credit, y_train_credit, y_test_credit =m.split_data(credit_data, 'Class')"
   ]
  },
  {
   "cell_type": "markdown",
   "id": "59e91b97",
   "metadata": {},
   "source": [
    "## Model Training"
   ]
  },
  {
   "cell_type": "code",
   "execution_count": 4,
   "id": "e6f9a991",
   "metadata": {},
   "outputs": [
    {
     "name": "stderr",
     "output_type": "stream",
     "text": [
      "e:\\KAIM\\week8\\improved-fraud-detection-week8\\.venv\\Lib\\site-packages\\sklearn\\linear_model\\_logistic.py:465: ConvergenceWarning: lbfgs failed to converge (status=1):\n",
      "STOP: TOTAL NO. OF ITERATIONS REACHED LIMIT.\n",
      "\n",
      "Increase the number of iterations (max_iter) or scale the data as shown in:\n",
      "    https://scikit-learn.org/stable/modules/preprocessing.html\n",
      "Please also refer to the documentation for alternative solver options:\n",
      "    https://scikit-learn.org/stable/modules/linear_model.html#logistic-regression\n",
      "  n_iter_i = _check_optimize_result(\n"
     ]
    }
   ],
   "source": [
    "lr_fraud = m.train_logistic_regression(X_train_fraud_smote_tomek, y_train_fraud_smote_tomek)\n",
    "xgb_fraud = m.train_xgboost(X_train_fraud_smote_tomek, y_train_fraud_smote_tomek)\n",
    "\n",
    "lr_credit = m.train_logistic_regression(X_train_credit, y_train_credit)\n",
    "xgb_credit = m.train_xgboost(X_train_credit, y_train_credit)"
   ]
  },
  {
   "cell_type": "markdown",
   "id": "79d73d76",
   "metadata": {},
   "source": [
    "## Evaluate Models"
   ]
  },
  {
   "cell_type": "code",
   "execution_count": 5,
   "id": "62f9d6ab",
   "metadata": {},
   "outputs": [],
   "source": [
    "results_df = pd.DataFrame(columns=['Dataset', 'Model', 'Accuracy', 'Precision', 'Recall', 'F1 Score', 'AUC Score'])"
   ]
  },
  {
   "cell_type": "code",
   "execution_count": 6,
   "id": "a58351f7",
   "metadata": {},
   "outputs": [
    {
     "name": "stdout",
     "output_type": "stream",
     "text": [
      "=== Classification Report ===\n",
      "              precision    recall  f1-score   support\n",
      "\n",
      "           0       0.91      0.51      0.65     41089\n",
      "           1       0.10      0.50      0.16      4245\n",
      "\n",
      "    accuracy                           0.51     45334\n",
      "   macro avg       0.50      0.51      0.40     45334\n",
      "weighted avg       0.83      0.51      0.60     45334\n",
      "\n",
      "=== ROC AUC Score ===\n",
      "ROC AUC Score: 0.5085839090823014\n",
      "=== Confusion Matrix ===\n",
      "[[20758 20331]\n",
      " [ 2102  2143]]\n"
     ]
    },
    {
     "name": "stderr",
     "output_type": "stream",
     "text": [
      "e:\\KAIM\\week8\\improved-fraud-detection-week8\\src\\models.py:114: FutureWarning: The behavior of DataFrame concatenation with empty or all-NA entries is deprecated. In a future version, this will no longer exclude empty or all-NA columns when determining the result dtypes. To retain the old behavior, exclude the relevant entries before the concat operation.\n",
      "  results_df = pd.concat([results_df, pd.DataFrame({\n"
     ]
    }
   ],
   "source": [
    "results_df = m.evaluate_model(lr_fraud, X_test_fraud, y_test_fraud, results_df, 'fraud_df', 'Logistic Regression')"
   ]
  },
  {
   "cell_type": "code",
   "execution_count": 7,
   "id": "00c8762a",
   "metadata": {},
   "outputs": [
    {
     "name": "stdout",
     "output_type": "stream",
     "text": [
      "=== Classification Report ===\n",
      "              precision    recall  f1-score   support\n",
      "\n",
      "           0       0.95      1.00      0.98     41089\n",
      "           1       0.96      0.54      0.69      4245\n",
      "\n",
      "    accuracy                           0.95     45334\n",
      "   macro avg       0.96      0.77      0.83     45334\n",
      "weighted avg       0.95      0.95      0.95     45334\n",
      "\n",
      "=== ROC AUC Score ===\n",
      "ROC AUC Score: 0.8403795765123718\n",
      "=== Confusion Matrix ===\n",
      "[[40990    99]\n",
      " [ 1963  2282]]\n"
     ]
    }
   ],
   "source": [
    "results_df = m.evaluate_model(xgb_fraud, X_test_fraud, y_test_fraud, results_df, 'fraud_df', 'XGBoost')"
   ]
  },
  {
   "cell_type": "code",
   "execution_count": 8,
   "id": "deb839f8",
   "metadata": {},
   "outputs": [
    {
     "name": "stdout",
     "output_type": "stream",
     "text": [
      "=== Classification Report ===\n",
      "              precision    recall  f1-score   support\n",
      "\n",
      "           0       1.00      1.00      1.00     85295\n",
      "           1       0.74      0.72      0.73       148\n",
      "\n",
      "    accuracy                           1.00     85443\n",
      "   macro avg       0.87      0.86      0.86     85443\n",
      "weighted avg       1.00      1.00      1.00     85443\n",
      "\n",
      "=== ROC AUC Score ===\n",
      "ROC AUC Score: 0.9116059843183355\n",
      "=== Confusion Matrix ===\n",
      "[[85258    37]\n",
      " [   42   106]]\n"
     ]
    }
   ],
   "source": [
    "results_df = m.evaluate_model(lr_credit, X_test_credit, y_test_credit, results_df, 'credit_df', 'Logistic Regression')"
   ]
  },
  {
   "cell_type": "code",
   "execution_count": 9,
   "id": "1c0ae22c",
   "metadata": {},
   "outputs": [
    {
     "name": "stdout",
     "output_type": "stream",
     "text": [
      "=== Classification Report ===\n",
      "              precision    recall  f1-score   support\n",
      "\n",
      "           0       1.00      1.00      1.00     85295\n",
      "           1       0.94      0.76      0.84       148\n",
      "\n",
      "    accuracy                           1.00     85443\n",
      "   macro avg       0.97      0.88      0.92     85443\n",
      "weighted avg       1.00      1.00      1.00     85443\n",
      "\n",
      "=== ROC AUC Score ===\n",
      "ROC AUC Score: 0.9285988374211599\n",
      "=== Confusion Matrix ===\n",
      "[[85288     7]\n",
      " [   36   112]]\n"
     ]
    }
   ],
   "source": [
    "results_df = m.evaluate_model(xgb_credit, X_test_credit, y_test_credit, results_df, 'credit_df', 'XGBoost')"
   ]
  },
  {
   "cell_type": "code",
   "execution_count": 10,
   "id": "512c3b35",
   "metadata": {},
   "outputs": [
    {
     "data": {
      "application/vnd.microsoft.datawrangler.viewer.v0+json": {
       "columns": [
        {
         "name": "index",
         "rawType": "int64",
         "type": "integer"
        },
        {
         "name": "Dataset",
         "rawType": "object",
         "type": "string"
        },
        {
         "name": "Model",
         "rawType": "object",
         "type": "string"
        },
        {
         "name": "Accuracy",
         "rawType": "float64",
         "type": "float"
        },
        {
         "name": "Precision",
         "rawType": "float64",
         "type": "float"
        },
        {
         "name": "Recall",
         "rawType": "float64",
         "type": "float"
        },
        {
         "name": "F1 Score",
         "rawType": "float64",
         "type": "float"
        },
        {
         "name": "AUC Score",
         "rawType": "float64",
         "type": "float"
        }
       ],
       "ref": "23cdfb0d-7dc9-4ab6-8c8b-666da7d54672",
       "rows": [
        [
         "0",
         "fraud_df",
         "Logistic Regression",
         "0.51",
         "0.1",
         "0.5",
         "0.16",
         "0.51"
        ],
        [
         "1",
         "fraud_df",
         "XGBoost",
         "0.95",
         "0.96",
         "0.54",
         "0.69",
         "0.84"
        ],
        [
         "2",
         "credit_df",
         "Logistic Regression",
         "1.0",
         "0.74",
         "0.72",
         "0.73",
         "0.91"
        ],
        [
         "3",
         "credit_df",
         "XGBoost",
         "1.0",
         "0.94",
         "0.76",
         "0.84",
         "0.93"
        ]
       ],
       "shape": {
        "columns": 7,
        "rows": 4
       }
      },
      "text/html": [
       "<div>\n",
       "<style scoped>\n",
       "    .dataframe tbody tr th:only-of-type {\n",
       "        vertical-align: middle;\n",
       "    }\n",
       "\n",
       "    .dataframe tbody tr th {\n",
       "        vertical-align: top;\n",
       "    }\n",
       "\n",
       "    .dataframe thead th {\n",
       "        text-align: right;\n",
       "    }\n",
       "</style>\n",
       "<table border=\"1\" class=\"dataframe\">\n",
       "  <thead>\n",
       "    <tr style=\"text-align: right;\">\n",
       "      <th></th>\n",
       "      <th>Dataset</th>\n",
       "      <th>Model</th>\n",
       "      <th>Accuracy</th>\n",
       "      <th>Precision</th>\n",
       "      <th>Recall</th>\n",
       "      <th>F1 Score</th>\n",
       "      <th>AUC Score</th>\n",
       "    </tr>\n",
       "  </thead>\n",
       "  <tbody>\n",
       "    <tr>\n",
       "      <th>0</th>\n",
       "      <td>fraud_df</td>\n",
       "      <td>Logistic Regression</td>\n",
       "      <td>0.51</td>\n",
       "      <td>0.10</td>\n",
       "      <td>0.50</td>\n",
       "      <td>0.16</td>\n",
       "      <td>0.51</td>\n",
       "    </tr>\n",
       "    <tr>\n",
       "      <th>1</th>\n",
       "      <td>fraud_df</td>\n",
       "      <td>XGBoost</td>\n",
       "      <td>0.95</td>\n",
       "      <td>0.96</td>\n",
       "      <td>0.54</td>\n",
       "      <td>0.69</td>\n",
       "      <td>0.84</td>\n",
       "    </tr>\n",
       "    <tr>\n",
       "      <th>2</th>\n",
       "      <td>credit_df</td>\n",
       "      <td>Logistic Regression</td>\n",
       "      <td>1.00</td>\n",
       "      <td>0.74</td>\n",
       "      <td>0.72</td>\n",
       "      <td>0.73</td>\n",
       "      <td>0.91</td>\n",
       "    </tr>\n",
       "    <tr>\n",
       "      <th>3</th>\n",
       "      <td>credit_df</td>\n",
       "      <td>XGBoost</td>\n",
       "      <td>1.00</td>\n",
       "      <td>0.94</td>\n",
       "      <td>0.76</td>\n",
       "      <td>0.84</td>\n",
       "      <td>0.93</td>\n",
       "    </tr>\n",
       "  </tbody>\n",
       "</table>\n",
       "</div>"
      ],
      "text/plain": [
       "     Dataset                Model  Accuracy  Precision  Recall  F1 Score  \\\n",
       "0   fraud_df  Logistic Regression      0.51       0.10    0.50      0.16   \n",
       "1   fraud_df              XGBoost      0.95       0.96    0.54      0.69   \n",
       "2  credit_df  Logistic Regression      1.00       0.74    0.72      0.73   \n",
       "3  credit_df              XGBoost      1.00       0.94    0.76      0.84   \n",
       "\n",
       "   AUC Score  \n",
       "0       0.51  \n",
       "1       0.84  \n",
       "2       0.91  \n",
       "3       0.93  "
      ]
     },
     "metadata": {},
     "output_type": "display_data"
    }
   ],
   "source": [
    "display(results_df)"
   ]
  }
 ],
 "metadata": {
  "kernelspec": {
   "display_name": ".venv",
   "language": "python",
   "name": "python3"
  },
  "language_info": {
   "codemirror_mode": {
    "name": "ipython",
    "version": 3
   },
   "file_extension": ".py",
   "mimetype": "text/x-python",
   "name": "python",
   "nbconvert_exporter": "python",
   "pygments_lexer": "ipython3",
   "version": "3.12.3"
  }
 },
 "nbformat": 4,
 "nbformat_minor": 5
}
